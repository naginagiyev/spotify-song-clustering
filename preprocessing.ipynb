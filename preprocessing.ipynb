{
 "cells": [
  {
   "cell_type": "markdown",
   "id": "4ca9ff20",
   "metadata": {},
   "source": [
    "_Imports_"
   ]
  },
  {
   "cell_type": "code",
   "execution_count": null,
   "id": "5f781924",
   "metadata": {},
   "outputs": [],
   "source": [
    "import os\n",
    "import re\n",
    "import json\n",
    "import pandas as pd\n",
    "from tqdm import tqdm\n",
    "from downloader import SpotiDownloader"
   ]
  },
  {
   "cell_type": "markdown",
   "id": "ea06475a",
   "metadata": {},
   "source": [
    "_Read your data_"
   ]
  },
  {
   "cell_type": "code",
   "execution_count": null,
   "id": "edf31d59",
   "metadata": {},
   "outputs": [],
   "source": [
    "data = []\n",
    "folder_path = \"./data/\"\n",
    "for filename in os.listdir(folder_path):\n",
    "    with open(os.path.join(folder_path, filename), 'r', encoding='utf-8') as file:\n",
    "        data.extend(json.load(file))\n",
    "\n",
    "df = pd.DataFrame(data)\n",
    "\n",
    "# keep only important columns\n",
    "columns_to_keep = ['ms_played', 'master_metadata_track_name', 'master_metadata_album_artist_name',\n",
    "                   'spotify_track_uri']\n",
    "df = df[columns_to_keep]\n",
    "\n",
    "# convert millisecond to minute\n",
    "df['ms_played'] = (df['ms_played'] / 60000).round(4)\n",
    "\n",
    "# rearrange column order\n",
    "df.columns = [\"mins_played\", \"song\", \"artist\", \"uri\"]\n",
    "\n",
    "# remove the non-unique part from the URI\n",
    "df[\"uri\"] = df[\"uri\"].str.replace(\"spotify:track:\", \"\", regex=False)"
   ]
  },
  {
   "cell_type": "markdown",
   "id": "2b755c0c",
   "metadata": {},
   "source": [
    "_Preprocessing_"
   ]
  },
  {
   "cell_type": "code",
   "execution_count": null,
   "id": "f3d94ff5",
   "metadata": {},
   "outputs": [],
   "source": [
    "# remove duplicates\n",
    "df_uri = df[['song', 'artist', 'uri']].drop_duplicates(subset=['song', 'artist'])\n",
    "\n",
    "# group by song and artist\n",
    "df_unique = df.groupby(['song', 'artist'], as_index=False)['mins_played'].sum()\n",
    "\n",
    "# merge with uri\n",
    "df_unique = pd.merge(df_unique, df_uri, on=['song', 'artist'], how='left')\n",
    "\n",
    "# sort from most listened music to least\n",
    "df = df_unique.sort_values(by='mins_played', ascending=False)"
   ]
  },
  {
   "cell_type": "markdown",
   "id": "ac063c1e",
   "metadata": {},
   "source": [
    "_Drop_"
   ]
  },
  {
   "cell_type": "code",
   "execution_count": null,
   "metadata": {},
   "outputs": [],
   "source": [
    "# remove the songs that have been listened under 10 minutes in total\n",
    "df = df[df['mins_played'] >= 10]\n",
    "df = df.reset_index(drop=True)"
   ]
  },
  {
   "cell_type": "code",
   "execution_count": null,
   "id": "90930aa0",
   "metadata": {},
   "outputs": [],
   "source": [
    "# a function to clean song names from unusual characters\n",
    "def sanitize_filename(name):\n",
    "    return re.sub(r'[\\\\/*?:\"<>|]', \"\", name)"
   ]
  },
  {
   "cell_type": "code",
   "execution_count": null,
   "metadata": {},
   "outputs": [],
   "source": [
    "# create folders to store songs and their covers if does not exist\n",
    "os.mkdir(\"./songs\", exist_ok=True)\n",
    "os.mkdir(\"./covers\", exist_ok=True)\n",
    "\n",
    "# initialize an object SpotiDownloader \n",
    "downloader = SpotiDownloader()\n",
    "\n",
    "# iterate over your listened songs, download them as wav file and also their covers as png\n",
    "for idx, row in tqdm(df.iterrows(), total=len(df)):\n",
    "    try:\n",
    "        song = sanitize_filename(row['song'].lower())\n",
    "        artist = sanitize_filename(row['artist'].lower())\n",
    "        downloader.download_song(name=song, author=artist, uri=row['uri'])\n",
    "        downloader.download_cover(name=song, author=artist, uri=row['uri'])\n",
    "    except:\n",
    "        print(f\"An error occurred while downloading {song} by {artist}!\")\n",
    "        continue\n",
    "\n",
    "downloader.close()"
   ]
  }
 ],
 "metadata": {
  "kernelspec": {
   "display_name": "allinone",
   "language": "python",
   "name": "python3"
  },
  "language_info": {
   "codemirror_mode": {
    "name": "ipython",
    "version": 3
   },
   "file_extension": ".py",
   "mimetype": "text/x-python",
   "name": "python",
   "nbconvert_exporter": "python",
   "pygments_lexer": "ipython3",
   "version": "3.10.18"
  }
 },
 "nbformat": 4,
 "nbformat_minor": 5
}
